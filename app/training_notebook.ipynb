{
 "cells": [
  {
   "cell_type": "code",
   "execution_count": 1,
   "metadata": {},
   "outputs": [],
   "source": [
    "import os\n",
    "import tensorflow as tf\n",
    "import matplotlib.pyplot as plt\n",
    "from typing import List, Dict, Optional, Union, Any\n",
    "from tensorflow.keras import layers\n",
    "from tensorflow.keras import losses\n",
    "from tensorflow.keras import utils\n",
    "from tensorflow.keras.layers import TextVectorization"
   ]
  },
  {
   "cell_type": "code",
   "execution_count": 2,
   "metadata": {},
   "outputs": [],
   "source": [
    "os.environ['TF_FORCE_GPU_ALLOW_GROWTH'] = 'true'"
   ]
  },
  {
   "cell_type": "markdown",
   "metadata": {},
   "source": [
    "## Load Data"
   ]
  },
  {
   "cell_type": "code",
   "execution_count": 3,
   "metadata": {},
   "outputs": [],
   "source": [
    "batch_size = 32\n",
    "seed = 2022"
   ]
  },
  {
   "cell_type": "code",
   "execution_count": 4,
   "metadata": {},
   "outputs": [
    {
     "name": "stdout",
     "output_type": "stream",
     "text": [
      "Found 112000 files belonging to 14 classes.\n"
     ]
    },
    {
     "name": "stderr",
     "output_type": "stream",
     "text": [
      "2022-04-21 00:02:47.950446: I tensorflow/stream_executor/cuda/cuda_gpu_executor.cc:936] successful NUMA node read from SysFS had negative value (-1), but there must be at least one NUMA node, so returning NUMA node zero\n",
      "2022-04-21 00:02:47.969815: I tensorflow/stream_executor/cuda/cuda_gpu_executor.cc:936] successful NUMA node read from SysFS had negative value (-1), but there must be at least one NUMA node, so returning NUMA node zero\n",
      "2022-04-21 00:02:47.969932: I tensorflow/stream_executor/cuda/cuda_gpu_executor.cc:936] successful NUMA node read from SysFS had negative value (-1), but there must be at least one NUMA node, so returning NUMA node zero\n",
      "2022-04-21 00:02:47.970646: I tensorflow/core/platform/cpu_feature_guard.cc:151] This TensorFlow binary is optimized with oneAPI Deep Neural Network Library (oneDNN) to use the following CPU instructions in performance-critical operations:  AVX2 FMA\n",
      "To enable them in other operations, rebuild TensorFlow with the appropriate compiler flags.\n",
      "2022-04-21 00:02:47.971276: I tensorflow/stream_executor/cuda/cuda_gpu_executor.cc:936] successful NUMA node read from SysFS had negative value (-1), but there must be at least one NUMA node, so returning NUMA node zero\n",
      "2022-04-21 00:02:47.971386: I tensorflow/stream_executor/cuda/cuda_gpu_executor.cc:936] successful NUMA node read from SysFS had negative value (-1), but there must be at least one NUMA node, so returning NUMA node zero\n",
      "2022-04-21 00:02:47.971479: I tensorflow/stream_executor/cuda/cuda_gpu_executor.cc:936] successful NUMA node read from SysFS had negative value (-1), but there must be at least one NUMA node, so returning NUMA node zero\n",
      "2022-04-21 00:02:48.296062: I tensorflow/stream_executor/cuda/cuda_gpu_executor.cc:936] successful NUMA node read from SysFS had negative value (-1), but there must be at least one NUMA node, so returning NUMA node zero\n",
      "2022-04-21 00:02:48.296208: I tensorflow/stream_executor/cuda/cuda_gpu_executor.cc:936] successful NUMA node read from SysFS had negative value (-1), but there must be at least one NUMA node, so returning NUMA node zero\n",
      "2022-04-21 00:02:48.296312: I tensorflow/stream_executor/cuda/cuda_gpu_executor.cc:936] successful NUMA node read from SysFS had negative value (-1), but there must be at least one NUMA node, so returning NUMA node zero\n",
      "2022-04-21 00:02:48.296386: W tensorflow/core/common_runtime/gpu/gpu_bfc_allocator.cc:39] Overriding allow_growth setting because the TF_FORCE_GPU_ALLOW_GROWTH environment variable is set. Original config value was 0.\n",
      "2022-04-21 00:02:48.296415: I tensorflow/core/common_runtime/gpu/gpu_device.cc:1525] Created device /job:localhost/replica:0/task:0/device:GPU:0 with 7454 MB memory:  -> device: 0, name: NVIDIA GeForce RTX 3080, pci bus id: 0000:2d:00.0, compute capability: 8.6\n"
     ]
    },
    {
     "name": "stdout",
     "output_type": "stream",
     "text": [
      "Found 14000 files belonging to 14 classes.\n",
      "Found 14000 files belonging to 14 classes.\n"
     ]
    }
   ],
   "source": [
    "train_ds = tf.keras.utils.text_dataset_from_directory(\"data/train\", batch_size=batch_size, seed=seed)\n",
    "val_ds = tf.keras.utils.text_dataset_from_directory(\"data/val\", batch_size=batch_size, seed=seed)\n",
    "test_ds = tf.keras.utils.text_dataset_from_directory(\"data/test\", batch_size=batch_size, seed=seed)"
   ]
  },
  {
   "cell_type": "code",
   "execution_count": 5,
   "metadata": {},
   "outputs": [
    {
     "data": {
      "text/plain": [
       "{0: 'Assembly',\n",
       " 1: 'C',\n",
       " 2: 'C#',\n",
       " 3: 'C++',\n",
       " 4: 'GO',\n",
       " 5: 'Java',\n",
       " 6: 'JavaScript',\n",
       " 7: 'Julia',\n",
       " 8: 'Lua',\n",
       " 9: 'Python',\n",
       " 10: 'Ruby',\n",
       " 11: 'Rust',\n",
       " 12: 'SQL',\n",
       " 13: 'Visual Basic'}"
      ]
     },
     "execution_count": 5,
     "metadata": {},
     "output_type": "execute_result"
    }
   ],
   "source": [
    "class_mappings = {num:lbl for num, lbl in enumerate(train_ds.class_names)}\n",
    "class_mappings"
   ]
  },
  {
   "cell_type": "code",
   "execution_count": 6,
   "metadata": {},
   "outputs": [
    {
     "name": "stdout",
     "output_type": "stream",
     "text": [
      "b'\\xef\\xbb\\xbf\\' Licensed to the .NET Foundation under one or more agreements.\\n\\' The .NET Foundation licenses this file to you under the MIT license.\\n\\' See the LICENSE file in the project root for more information.\\n\\nImports System.Runtime.CompilerServices\\nImports Microsoft.CodeAnalysis\\nImports Microsoft.CodeAnalysis.Test.Extensions\\nImports Microsoft.CodeAnalysis.Test.Utilities\\nImports Microsoft.CodeAnalysis.Text\\nImports Microsoft.CodeAnalysis.VisualBasic\\nImports Microsoft.CodeAnalysis.VisualBasic.Symbols\\nImports Microsoft.CodeAnalysis.VisualBasic.Syntax\\nImports Roslyn.Test.Utilities\\n\\nNamespace Microsoft.CodeAnalysis.VisualBasic.UnitTests.Symbols\\n\\n    Partial Public Class InstantiatingGenerics\\n\\n        <Fact>\\n        Public Sub UnboundGenericType1()\\n\\n            Dim compilation = CompilationUtils.CreateCompilationWithMscorlib40AndVBRuntime(\\n<compilation name=\"C\">\\n    <file name=\"a.vb\">\\nInterface I1\\nEnd Interface\\n\\nClass C1\\n    Class C2(Of T1, T2)\\n        Implements I1\\n\\n        Class C7\\n        End Class\\n\\n        Sub M1()\\n        End Sub\\n    End Class\\nEnd Class\\n\\nClass C3(Of T)\\n    Class C4\\n        Class C5(Of T1, T2)\\n            Class C7\\n            End Class\\n\\n            Sub M1()\\n            End Sub\\n        End Class\\n\\n        Class C7\\n        End Class\\n\\n        Sub M1()\\n        End Sub\\n    End Class\\n\\n    Class C6(Of T1)\\n        Class C7(Of T1)\\n        End Class\\n    End Class\\n\\n    Sub M1()\\n    End Sub\\nEnd Class\\n    </file>\\n</compilation>)\\n\\n            Dim c1 = compilation.GetTypeByMetadataName(\"C1\")\\n            Dim c2 = c1.GetTypeMembers(\"C2\").Single()\\n            Dim c3 = compilation.GetTypeByMetadataName(\"C3`1\")\\n            Dim c4 = c3.GetTypeMembers(\"C4\").Single()\\n            Dim c5 = c4.GetTypeMembers(\"C5\").Single()\\n            Dim c6 = c3.GetTypeMembers(\"C6\").Single()\\n            Dim c7 = c6.GetTypeMembers(\"C7\").Single()\\n\\n            Assert.False(c1.IsUnboundGenericType)\\n            Assert.False(c2.IsUnboundGenericType)\\n            Assert.False(c3.IsUnboundGenericType)\\n            Assert.False(c4.IsUnboundGenericType)\\n            Assert.False(c5.IsUnboundGenericType)\\n            Assert.False(c6.IsUnboundGenericType)\\n            Assert.False(IsUnboundGenericType(c6))\\n            Assert.False(IsUnboundGenericType(Nothing))\\n            Assert.False(IsUnboundGenericType(compilation.CreateArrayTypeSymbol(c1)))\\n\\n            Assert.Throws(Of InvalidOperationException)(Sub() c1.ConstructUnboundGenericType())\\n\\n            Dim u_c2 = c2.ConstructUnboundGenericType()\\n            Assert.True(u_c2.IsUnboundGenericType)\\n            Assert.True(IsUnboundGenericType(u_c2))\\n            u_c2.VerifyGenericInstantiationInvariants()\\n            Assert.Same(c2.ContainingSymbol, u_c2.ContainingSymbol)\\n            Assert.Equal(u_c2, u_c2)\\n            Dim u__c2 = c2.ConstructUnboundGenericType()\\n            Assert.NotSame(u__c2, u_c2)\\n            Assert.Equal(u__c2, u_c2)\\n            Assert.Equal(u__c2.GetHashCode(), u_c2.GetHashCode())\\n            Assert.Equal(\"C7\", u_c2.MemberNames.Single())\\n            Assert.Equal(\"C1.C2(Of ,).C7\", u_c2.GetMembers().Single().ToTestDisplayString())\\n            Assert.Equal(\"C1.C2(Of ,).C7\", u_c2.GetMembers(\"c7\").Single().ToTestDisplayString())\\n            Assert.Equal(0, u_c2.GetMembers(\"M1\").Length)\\n            Assert.Equal(\"C1.C2(Of ,).C7\", u_c2.GetTypeMembers().Single().ToTestDisplayString())\\n            Assert.Equal(\"C1.C2(Of ,).C7\", u_c2.GetTypeMembers(\"c7\").Single().ToTestDisplayString())\\n            Assert.Equal(\"C1.C2(Of ,).C7\", u_c2.GetTypeMembers(\"c7\", 0).Single().ToTestDisplayString())\\n            Assert.Equal(0, u_c2.GetTypeMembers(\"C7\", 1).Length)\\n\\n            Dim u_c3 = c3.ConstructUnboundGenericType()\\n            Assert.True(u_c3.IsUnboundGenericType)\\n            u_c3.VerifyGenericInstantiationInvariants()\\n            Assert.Same(c3.ContainingSymbol, u_c3.ContainingSymbol)\\n            Assert.Equal(u_c3, u_c3)\\n            Dim u__c3 = c3.ConstructUnboundGenericType()\\n            Assert.NotSame(u__c3, u_c3)\\n            Assert.Equal(u__c3, u_c3)\\n            Assert.Equal(u__c3.GetHashCode(), u_c3.GetHashCode())\\n            Assert.Equal(\"C4, C6\", String.Join(\", \", u_c3.MemberNames))\\n            Assert.Equal(\"C3(Of ).C4, C3(Of ).C6(Of T1)\", String.Join(\", \", u_c3.GetMembers().Select(Function(s) s.ToTestDisplayString())))\\n\\n            Assert.Equal(0, u_c3.GetMembers().As(Of NamedTypeSymbol)().Where(Function(s) Not s.ContainingType.IsUnboundGenericType OrElse s.IsUnboundGenericType <> (s.Arity = 0)).Count)\\n            Assert.Equal(\"C3(Of ).C6(Of T1)\", String.Join(\", \", u_c3.GetMembers(\"c6\").Select(Function(s) s.ToTestDisplayString())))\\n            Assert.Equal(0, u_c3.GetMembers(\"c6\").As(Of NamedTypeSymbol)().Where(Function(s) Not s.ContainingType.IsUnboundGenericType OrElse s.IsUnboundGenericType <> (s.Arity = 0)).Count)\\n            Assert.Equal(0, u_c3.GetMembers(\"M1\").Length)\\n            Assert.Equal(\"C3(Of ).C4, C3(Of ).C6(Of T1)\", String.Join(\", \", u_c3.GetTypeMembers().Select(Function(s) s.ToTestDisplayString())))\\n            Assert.Equal(0, u_c3.GetTypeMembers().As(Of NamedTypeSymbol)().Where(Function(s) Not s.ContainingType.IsUnboundGenericType OrElse s.IsUnboundGenericType <> (s.Arity = 0)).Count)\\n            Assert.Equal(\"C3(Of ).C4\", String.Join(\", \", u_c3.GetTypeMembers(\"c4\").Select(Function(s) s.ToTestDisplayString())))\\n            Assert.Equal(0, u_c3.GetTypeMembers(\"c4\").As(Of NamedTypeSymbol)().Where(Function(s) Not s.ContainingType.IsUnboundGenericType OrElse s.IsUnboundGenericType <> (s.Arity = 0)).Count)\\n            Assert.Equal(\"C3(Of ).C6(Of T1)\", u_c3.GetTypeMembers(\"c6\", 1).Single().ToTestDisplayString())\\n            Assert.Equal(0, u_c3.GetTypeMembers(\"c6\", 1).Where(Function(s) Not s.ContainingType.IsUnboundGenericType OrElse s.IsUnboundGenericType <> (s.Arity = 0)).Count)\\n            Assert.Equal(0, u_c3.GetTypeMembers(\"C4\", 1).Length)\\n\\n            Assert.NotEqual(u_c2, u_c3)\\n\\n            Dim u_c4 = c4.ConstructUnboundGenericType()\\n            Assert.True(u_c4.IsUnboundGenericType)\\n            u_c4.VerifyGenericInstantiationInvariants()\\n            Assert.Equal(u_c3, u_c4.ContainingSymbol)\\n            Assert.Equal(u_c4, u_c4)\\n            Dim u__c4 = c4.ConstructUnboundGenericType()\\n            Assert.NotSame(u__c4, u_c4)\\n            Assert.Equal(u__c4, u_c4)\\n            Assert.Equal(u__c4.GetHashCode(), u_c4.GetHashCode())\\n            Assert.Equal(\"C5, C7\", String.Join(\", \", u_c4.MemberNames))\\n            Assert.Equal(\"C3(Of ).C4.C5(Of T1, T2), C3(Of ).C4.C7\", String.Join(\", \", u_c4.GetMembers().Select(Function(s) s.ToTestDisplayString())))\\n            Assert.Equal(\"C3(Of ).C4.C5(Of T1, T2)\", String.Join(\", \", u_c4.GetMembers(\"c5\").Select(Function(s) s.ToTestDisplayString())))\\n            Assert.Equal(0, u_c4.GetMembers(\"M1\").Length)\\n            Assert.Equal(\"C3(Of ).C4.C5(Of T1, T2), C3(Of ).C4.C7\", String.Join(\", \", u_c4.GetTypeMembers().Select(Function(s) s.ToTestDisplayString())))\\n            Assert.Equal(\"C3(Of ).C4.C7\", String.Join(\", \", u_c4.GetTypeMembers(\"c7\").Select(Function(s) s.ToTestDisplayString())))\\n            Assert.Equal(\"C3(Of ).C4.C5(Of T1, T2)\", u_c4.GetTypeMembers(\"c5\", 2).Single().ToTestDisplayString())\\n            Assert.Equal(0, u_c4.GetTypeMembers(\"C5\", 1).Length)\\n            Assert.Same(u_c4, u_c4.ConstructedFrom)\\n            Assert.Same(u_c4, u_c4.ConstructUnboundGenericType())\\n\\n\\n            Dim u_c5 = c5.ConstructUnboundGenericType()\\n            Assert.True(u_c5.IsUnboundGenericType)\\n            u_c5.VerifyGenericInstantiationInvariants()\\n            Assert.Equal(u_c4, u_c5.ContainingSymbol)\\n            Assert.Equal(u_c5, u_c5)\\n            Dim u__c5 = c5.ConstructUnboundGenericType()\\n            Assert.NotSame(u__c5, u_c5)\\n            Assert.Equal(u__c5, u_c5)\\n            Assert.Equal(u__c5.GetHashCode(), u_c5.GetHashCode())\\n            Assert.Equal(\"C7\", String.Join(\", \", u_c5.MemberNames))\\n            Assert.Equal(\"C3(Of ).C4.C5(Of ,).C7\", String.Join(\", \", u_c5.GetMembers().Select(Function(s) s.ToTestDisplayString())))\\n            Assert.Equal(\"C3(Of ).C4.C5(Of ,).C7\", String.Join(\", \", u_c5.GetMembers(\"c7\").Select(Function(s) s.ToTestDisplayString())))\\n            Assert.Equal(0, u_c5.GetMembers(\"M1\").Length)\\n            Assert.Equal(\"C3(Of ).C4.C5(Of ,).C7\", String.Join(\", \", u_c5.GetTypeMembers().Select(Function(s) s.ToTestDisplayString())))\\n            Assert.Equal(\"C3(Of ).C4.C5(Of ,).C7\", String.Join(\", \", u_c5.GetTypeMembers(\"c7\").Select(Function(s) s.ToTestDisplayString())))\\n            Assert.Equal(\"C3(Of ).C4.C5(Of ,).C7\", u_c5.GetTypeMembers(\"C7\", 0).Single().ToTestDisplayString())\\n            Assert.Equal(0, u_c5.GetTypeMembers(\"C4\", 1).Length)\\n\\n            Dim u_c5_cf = u_c5.ConstructedFrom\\n            Dim u__c5_cf = u__c5.ConstructedFrom\\n\\n            Assert.Equal(u_c5_cf, u_c5_cf)\\n            Assert.NotSame(u__c5_cf, u_c5_cf)\\n            Assert.Equal(u__c5_cf, u_c5_cf)\\n            Assert.Equal(u__c5_cf.GetHashCode(), u_c5_cf.GetHashCode())\\n\\n            Assert.False(u_c5_cf.IsUnboundGenericType)\\n            u_c5_cf.VerifyGenericInstantiationInvariants()\\n\\n            Assert.Same(u_c5.ContainingSymbol, u_c5_cf.ContainingSymbol)\\n            Assert.Same(u_c5_cf, u_c5_cf.ConstructedFrom)\\n            Assert.Same(u_c5, u_c5_cf.ConstructUnboundGenericType())\\n\\n            Assert.Equal(0, u_c5_cf.MemberNames.Count())\\n            Assert.Equal(0, u_c5_cf.GetMembers().Length)\\n            Assert.Equal(0, u_c5_cf.GetMembers(\"c7\").Length)\\n            Assert.Equal(0, u_c5_cf.GetMembers(\"M1\").Length)\\n            Assert.Equal(0, u_c5_cf.GetTypeMembers().Length)\\n            Assert.Equal(0, u_c5_cf.GetTypeMembers(\"c7\").Length)\\n            Assert.Equal(0, u_c5_cf.GetTypeMembers(\"C7\", 0).Length)\\n            Assert.Equal(0, u_c5_cf.GetTypeMembers(\"C4\", 1).Length)\\n\\n            Dim u_c6 = c6.ConstructUnboundGenericType()\\n            Assert.True(u_c6.IsUnboundGenericType)\\n            u_c6.VerifyGenericInstantiationInvariants()\\n            Assert.Equal(u_c3, u_c6.ContainingSymbol)\\n            Assert.Equal(u_c6, u_c6)\\n            Dim u__c6 = c6.ConstructUnboundGenericType()\\n            Assert.NotSame(u__c6, u_c6)\\n            Assert.Equal(u__c6, u_c6)\\n            Assert.Equal(u__c6.GetHashCode(), u_c6.GetHashCode())\\n\\n            Dim u_c6_cf = u_c6.ConstructedFrom\\n            Dim u__c6_cf = u__c6.ConstructedFrom\\n\\n            Assert.Equal(u_c6_cf, u_c6_cf)\\n            Assert.NotSame(u__c6_cf, u_c6_cf)\\n            Assert.Equal(u__c6_cf, u_c6_cf)\\n            Assert.Equal(u__c6_cf.GetHashCode(), u_c6_cf.GetHashCode())\\n\\n            Assert.False(u_c6_cf.IsUnboundGenericType)\\n            u_c6_cf.VerifyGenericInstantiationInvariants()\\n\\n            Assert.Same(u_c6.ContainingSymbol, u_c6_cf.ContainingSymbol)\\n            Assert.Same(u_c6_cf, u_c6_cf.ConstructedFrom)\\n            Assert.Same(u_c6, u_c6_cf.ConstructUnboundGenericType())\\n\\n            Dim u_c7 = c7.ConstructUnboundGenericType()\\n            Assert.True(u_c7.IsUnboundGenericType)\\n            u_c7.VerifyGenericInstantiationInvariants()\\n            Assert.Equal(u_c6, u_c7.ContainingSymbol)\\n            Assert.Equal(u_c7, u_c7)\\n            Dim u__c7 = c7.ConstructUnboundGenericType()\\n            Assert.NotSame(u__c7, u_c7)\\n            Assert.Equal(u__c7, u_c7)\\n            Assert.Equal(u__c7.GetHashCode(), u_c7.GetHashCode())\\n\\n            Dim u_c7_cf = u_c7.ConstructedFrom\\n            Dim u__c7_cf = u__c7.ConstructedFrom\\n\\n            Assert.Equal(u_c7_cf, u_c7_cf)\\n            Assert.NotSame(u__c7_cf, u_c7_cf)\\n            Assert.Equal(u__c7_cf, u_c7_cf)\\n            Assert.Equal(u__c7_cf.GetHashCode(), u_c7_cf.GetHashCode())\\n\\n            Assert.False(u_c7_cf.IsUnboundGenericType)\\n            u_c7_cf.VerifyGenericInstantiationInvariants()\\n\\n            Assert.Same(u_c7.ContainingSymbol, u_c7_cf.ContainingSymbol)\\n            Assert.Same(u_c7_cf, u_c7_cf.ConstructedFrom)\\n            Assert.Same(u_c7, u_c7_cf.ConstructUnboundGenericType())\\n        End Sub\\n\\n        <Fact>\\n        <WorkItem(3898, \"https://github.com/dotnet/roslyn/issues/3898\")>\\n        Public Sub UnboundGenericType_IsSerializable()\\n\\n            Dim compilation = CompilationUtils.CreateCompilationWithMscorlib40AndVBRuntime(\\n<compilation name=\"C\">\\n    <file name=\"a.vb\"><![CDATA[\\n\\nClass C3(Of T)\\n    Class C6(Of T1)\\n    End Class\\nEnd Class\\n\\n<System.Serializable>\\nClass C3S(Of T)\\n    <System.Serializable>\\n    Class C6S(Of T1)\\n    End Class\\nEnd Class\\n    ]]></file>\\n</compilation>)\\n\\n            Dim c3 = compilation.GetTypeByMetadataName(\"C3`1\")\\n            Dim c6 = c3.GetTypeMembers(\"C6\").Single()\\n\\n            Dim u_c3 = c3.ConstructUnboundGenericType()\\n            Assert.Equal(\"Microsoft.CodeAnalysis.VisualBasic.Symbols.UnboundGenericType+ConstructedSymbol\", u_c3.GetType().FullName)\\n            Assert.False(DirectCast(u_c3, INamedTypeSymbol).IsSerializable)\\n\\n            Dim c3c6 = u_c3.GetMember(\"C6\")\\n            Assert.Equal(\"Microsoft.CodeAnalysis.VisualBasic.Symbols.UnboundGenericType+ConstructedFromSymbol\", c3c6.GetType().FullName)\\n            Assert.False(DirectCast(c3c6, INamedTypeSymbol).IsSerializable)\\n\\n            Dim c3s = compilation.GetTypeByMetadataName(\"C3S`1\")\\n            Dim c6s = c3s.GetTypeMembers(\"C6S\").Single()\\n\\n            Dim u_c3s = c3s.ConstructUnboundGenericType()\\n            Assert.Equal(\"Microsoft.CodeAnalysis.VisualBasic.Symbols.UnboundGenericType+ConstructedSymbol\", u_c3s.GetType().FullName)\\n            Assert.True(DirectCast(u_c3s, INamedTypeSymbol).IsSerializable)\\n\\n            Dim c3c6s = u_c3s.GetMember(\"C6S\")\\n            Assert.Equal(\"Microsoft.CodeAnalysis.VisualBasic.Symbols.UnboundGenericType+ConstructedFromSymbol\", c3c6s.GetType().FullName)\\n            Assert.True(DirectCast(c3c6s, INamedTypeSymbol).IsSerializable)\\n        End Sub\\n\\n        <Fact>\\n        <WorkItem(41779, \"https://github.com/dotnet/roslyn/issues/41779\")>\\n        Public Sub UnboundGenericType_Bug41779_Original()\\n\\n            Dim compilation = CompilationUtils.CreateCompilation(\\n<compilation name=\"C\">\\n    <file name=\"a.vb\"><![CDATA[\\nImports System.Runtime.CompilerServices\\n\\nInterface I\\n    Function GetService() As Object\\nEnd Interface\\n\\nModule Program\\n    <Extension()>\\n    Private Function GetService(Of T)(ByVal obj As I) As T\\n        Return \"default\"\\n    End Function\\n\\n    Private Sub M(ByVal provider As I)\\n        provider.GetService(Of)()\\n        provider.GetService(Of)().ToString()\\n        provider.GetService(Of)()\\n    End Sub\\nEnd Module\\n    ]]></file>\\n</compilation>)\\n\\n            compilation.AssertTheseDiagnostics(<expected>\\nBC30311: Value of type \\'String\\' cannot be converted to \\'T\\'.\\n        Return \"default\"\\n               ~~~~~~~~~\\nBC30182: Type expected.\\n        provider.GetService(Of)()\\n                              ~\\nBC30182: Type expected.\\n        provider.GetService(Of)().ToString()\\n                              ~\\nBC30182: Type expected.\\n        provider.GetService(Of)()\\n                              ~\\n                </expected>)\\n\\n        End Sub\\n\\n        <Fact>\\n        <WorkItem(41779, \"https://github.com/dotnet/roslyn/issues/41779\")>\\n        Public Sub UnboundGenericType_Bug41779_DoubleArgs()\\n\\n            Dim compilation = CompilationUtils.CreateCompilation(\\n<compilation name=\"C\">\\n    <file name=\"a.vb\"><![CDATA[\\nImports System.Runtime.CompilerServices\\n\\nInterface I\\n    Function GetService() As Object\\nEnd Interface\\n\\nModule Program\\n    <Extension()>\\n    Private Function GetService(Of T1, T2)(ByVal obj As I) As T1\\n        Return \"default\"\\n    End Function\\n\\n    Private Sub M(ByVal provider As I)\\n        provider.GetService(Of)()\\n        provider.GetService(Of)().ToString()\\n        provider.GetService(Of)()\\n    End Sub\\nEnd Module\\n    ]]></file>\\n</compilation>)\\n\\n            compilation.AssertTheseDiagnostics(<expected>\\nBC30311: Value of type \\'String\\' cannot be converted to \\'T1\\'.\\n        Return \"default\"\\n               ~~~~~~~~~\\nBC32087: Overload resolution failed because no accessible \\'GetService\\' accepts this number of type arguments.\\n        provider.GetService(Of)()\\n                 ~~~~~~~~~~~~~~\\nBC30182: Type expected.\\n        provider.GetService(Of)()\\n                              ~\\nBC32087: Overload resolution failed because no accessible \\'GetService\\' accepts this number of type arguments.\\n        provider.GetService(Of)().ToString()\\n                 ~~~~~~~~~~~~~~\\nBC30182: Type expected.\\n        provider.GetService(Of)().ToString()\\n                              ~\\nBC32087: Overload resolution failed because no accessible \\'GetService\\' accepts this number of type arguments.\\n        provider.GetService(Of)()\\n                 ~~~~~~~~~~~~~~\\nBC30182: Type expected.\\n        provider.GetService(Of)()\\n                              ~\\n            </expected>)\\n\\n        End Sub\\n\\n        <Fact>\\n        <WorkItem(41779, \"https://github.com/dotnet/roslyn/issues/41779\")>\\n        Public Sub UnboundGenericType_Bug41779_Instance()\\n\\n            Dim compilation = CompilationUtils.CreateCompilation(\\n<compilation name=\"C\">\\n    <file name=\"a.vb\"><![CDATA[\\nInterface I\\n    Function GetService() As Object\\nEnd Interface\\n\\nInterface J\\n    Function GetService(Of T)() As Object\\nEnd Interface\\n\\nInterface K\\n    Function GetService(Of T1, T2)() As Object\\nEnd Interface\\n\\nModule Program\\n    Private Sub M(ByVal provider As I)\\n        provider.GetService(Of)()\\n        provider.GetService(Of)().ToString()\\n    End Sub\\n\\n    Private Sub M(ByVal provider As J)\\n        provider.GetService(Of)()\\n        provider.GetService(Of)().ToString()\\n    End Sub\\n\\n    Private Sub M(ByVal provider As K)\\n        provider.GetService(Of)()\\n        provider.GetService(Of)().ToString()\\n    End Sub\\nEnd Module\\n    ]]></file>\\n</compilation>)\\n\\n            compilation.AssertTheseDiagnostics(<expected>\\nBC32045: \\'Function GetService() As Object\\' has no type parameters and so cannot have type arguments.\\n        provider.GetService(Of)()\\n                           ~~~~\\nBC30182: Type expected.\\n        provider.GetService(Of)()\\n                              ~\\nBC32045: \\'Function GetService() As Object\\' has no type parameters and so cannot have type arguments.\\n        provider.GetService(Of)().ToString()\\n                           ~~~~\\nBC30182: Type expected.\\n        provider.GetService(Of)().ToString()\\n                              ~\\nBC30182: Type expected.\\n        provider.GetService(Of)()\\n                              ~\\nBC30182: Type expected.\\n        provider.GetService(Of)().ToString()\\n                              ~\\nBC32042: Too few type arguments to \\'Function GetService(Of T1, T2)() As Object\\'.\\n        provider.GetService(Of)()\\n                           ~~~~\\nBC30182: Type expected.\\n        provider.GetService(Of)()\\n                              ~\\nBC32042: Too few type arguments to \\'Function GetService(Of T1, T2)() As Object\\'.\\n        provider.GetService(Of)().ToString()\\n                           ~~~~\\nBC30182: Type expected.\\n        provider.GetService(Of)().ToString()\\n                              ~\\n            </expected>)\\n\\n        End Sub\\n\\n        <Fact>\\n        <WorkItem(41779, \"https://github.com/dotnet/roslyn/issues/41779\")>\\n        Public Sub UnboundGenericType_Bug41779_Extension()\\n\\n            Dim compilation = CompilationUtils.CreateCompilation(\\n<compilation name=\"C\">\\n    <file name=\"a.vb\"><![CDATA[\\nImports System.Runtime.CompilerServices\\n\\nInterface I\\nEnd Interface\\n\\nModule Program\\n    <Extension()>\\n    Private Sub GetServiceA(ByVal obj As I)\\n    End Sub\\n\\n    <Extension()>\\n    Private Function GetServiceB(Of T)(ByVal obj As I) As T\\n        Return \"default\"\\n    End Function\\n\\n    <Extension()>\\n    Private Function GetServiceC(Of T1, T2)(ByVal obj As I) As T1\\n        Return \"default\"\\n    End Function\\n\\n    Private Sub M(ByVal provider As I)\\n        provider.GetServiceA(Of)()\\n        provider.GetServiceA(Of)().ToString()\\n        provider.GetServiceB(Of)()\\n        provider.GetServiceB(Of)().ToString()\\n        provider.GetServiceC(Of)()\\n        provider.GetServiceC(Of)().ToString()\\n    End Sub\\nEnd Module\\n    ]]></file>\\n</compilation>)\\n\\n            compilation.AssertTheseDiagnostics(<expected>\\nBC30311: Value of type \\'String\\' cannot be converted to \\'T\\'.\\n        Return \"default\"\\n               ~~~~~~~~~\\nBC30311: Value of type \\'String\\' cannot be converted to \\'T1\\'.\\n        Return \"default\"\\n               ~~~~~~~~~\\nBC36907: Extension method \\'Private Sub GetServiceA()\\' defined in \\'Program\\' is not generic (or has no free type parameters) and so cannot have type arguments.\\n        provider.GetServiceA(Of)()\\n                            ~~~~\\nBC30182: Type expected.\\n        provider.GetServiceA(Of)()\\n                               ~\\nBC36907: Extension method \\'Private Sub GetServiceA()\\' defined in \\'Program\\' is not generic (or has no free type parameters) and so cannot have type arguments.\\n        provider.GetServiceA(Of)().ToString()\\n                            ~~~~\\nBC30182: Type expected.\\n        provider.GetServiceA(Of)().ToString()\\n                               ~\\nBC30182: Type expected.\\n        provider.GetServiceB(Of)()\\n                               ~\\nBC30182: Type expected.\\n        provider.GetServiceB(Of)().ToString()\\n                               ~\\nBC36590: Too few type arguments to extension method \\'Private Function GetServiceC(Of T1, T2)() As T1\\' defined in \\'Program\\'.\\n        provider.GetServiceC(Of)()\\n                            ~~~~\\nBC30182: Type expected.\\n        provider.GetServiceC(Of)()\\n                               ~\\nBC36590: Too few type arguments to extension method \\'Private Function GetServiceC(Of T1, T2)() As T1\\' defined in \\'Program\\'.\\n        provider.GetServiceC(Of)().ToString()\\n                            ~~~~\\nBC30182: Type expected.\\n        provider.GetServiceC(Of)().ToString()\\n                               ~\\n            </expected>)\\n\\n        End Sub\\n\\n        <Fact>\\n        <WorkItem(41779, \"https://github.com/dotnet/roslyn/issues/41779\")>\\n        Public Sub UnboundGenericType_Bug41779_Function()\\n\\n            Dim compilation = CompilationUtils.CreateCompilation(\\n<compilation name=\"C\">\\n    <file name=\"a.vb\"><![CDATA[\\nModule Program\\n    Private Function GetServiceA() As Object\\n        Return Nothing\\n    End Function\\n\\n    Private Function GetServiceB(Of T)() As T\\n        Return \"default\"\\n    End Function\\n\\n    Private Function GetServiceC(Of T1, T2)() As T1\\n        Return \"default\"\\n    End Function\\n\\n    Private Sub M()\\n        GetServiceA(Of)()\\n        GetServiceA(Of)().ToString()\\n        GetServiceB(Of)()\\n        GetServiceB(Of)().ToString()\\n        GetServiceC(Of)()\\n        GetServiceC(Of)().ToString()\\n    End Sub\\nEnd Module\\n    ]]></file>\\n</compilation>)\\n\\n            compilation.AssertTheseDiagnostics(<expected>\\nBC30311: Value of type \\'String\\' cannot be converted to \\'T\\'.\\n        Return \"default\"\\n               ~~~~~~~~~\\nBC30311: Value of type \\'String\\' cannot be converted to \\'T1\\'.\\n        Return \"default\"\\n               ~~~~~~~~~\\nBC32045: \\'Private Function GetServiceA() As Object\\' has no type parameters and so cannot have type arguments.\\n        GetServiceA(Of)()\\n                   ~~~~\\nBC30182: Type expected.\\n        GetServiceA(Of)()\\n                      ~\\nBC32045: \\'Private Function GetServiceA() As Object\\' has no type parameters and so cannot have type arguments.\\n        GetServiceA(Of)().ToString()\\n                   ~~~~\\nBC30182: Type expected.\\n        GetServiceA(Of)().ToString()\\n                      ~\\nBC30182: Type expected.\\n        GetServiceB(Of)()\\n                      ~\\nBC30182: Type expected.\\n        GetServiceB(Of)().ToString()\\n                      ~\\nBC32042: Too few type arguments to \\'Private Function GetServiceC(Of T1, T2)() As T1\\'.\\n        GetServiceC(Of)()\\n                   ~~~~\\nBC30182: Type expected.\\n        GetServiceC(Of)()\\n                      ~\\nBC32042: Too few type arguments to \\'Private Function GetServiceC(Of T1, T2)() As T1\\'.\\n        GetServiceC(Of)().ToString()\\n                   ~~~~\\nBC30182: Type expected.\\n        GetServiceC(Of)().ToString()\\n                      ~\\n            </expected>)\\n\\n        End Sub\\n\\n    End Class\\n\\nEnd Namespace\\n'\n",
      "13 Visual Basic\n",
      "\n",
      "b'package pl.mobilization.conference2015.sponsor;\\n\\nimport android.content.Context;\\nimport android.content.Intent;\\n\\nimport org.junit.After;\\nimport org.junit.Before;\\nimport org.junit.Test;\\nimport org.mockito.Mock;\\nimport org.mockito.MockitoAnnotations;\\n\\nimport java.util.ArrayList;\\nimport java.util.List;\\n\\nimport de.greenrobot.event.EventBus;\\nimport lombok.extern.slf4j.Slf4j;\\nimport pl.mobilization.conference2015.sponsor.events.OnSponsorClickEvent;\\nimport pl.mobilization.conference2015.sponsor.events.SponsorUpdatedEvent;\\nimport pl.mobilization.conference2015.sponsor.repository.SponsorRepoModel;\\nimport pl.mobilization.conference2015.sponsor.repository.SponsorRepository;\\nimport pl.mobilization.conference2015.sponsor.rest.SponsorRestService;\\nimport pl.mobilization.conference2015.sponsor.rest.SponsorListRestModel;\\nimport pl.mobilization.conference2015.sponsor.view.SponsorsView;\\nimport pl.mobilization.conference2015.sponsor.view.SponsorsListViewModel;\\nimport rx.Observable;\\n\\nimport static org.fest.assertions.api.Assertions.assertThat;\\nimport static org.mockito.Mockito.*;\\n\\n/**\\n * Created by msaramak on 19.08.15.\\n */\\n@Slf4j\\npublic class SponsorRestModelPresenterTest {\\n\\n\\n    @Mock\\n    SponsorRestService sponsorRestService;\\n\\n    @Mock\\n    EventBus eventBus;\\n    @Mock\\n    SponsorsView view;\\n\\n    @Mock\\n    SponsorRepository sponsorRepository;\\n    @Mock\\n    Context context;\\n    private SponsorPresenter testedSp;\\n\\n    @Before\\n    public void setUp() throws Exception {\\n        MockitoAnnotations.initMocks(this);\\n        //GIVEN a sponsor presenter..\\n        testedSp = new SponsorPresenter(sponsorRepository, eventBus);\\n        List<SponsorRepoModel> l = new ArrayList<>();\\n        when(sponsorRepository.getSponsors()).thenReturn(Observable.<List<SponsorRepoModel>>just(l));\\n\\n\\n    }\\n\\n    @After\\n    public void tearDown() throws Exception {\\n\\n    }\\n\\n    @SuppressWarnings(\"ResourceType\")\\n    @Test\\n    public void testOnBindView() throws Exception {\\n        //GIVEN a sponsor presenter\\n        verify(eventBus).register(testedSp);\\n        //WHEN bind view\\n        testedSp.onBindView(context, view);\\n\\n        //THEN check if background service is setup\\n        verify(context).bindService(any(Intent.class), any(), eq(Context.BIND_AUTO_CREATE));\\n\\n    }\\n\\n    @Test\\n    public void shouldDisplayDialogWhenOnSponsorClickEventCalled() throws Exception {\\n        //GIVEN a tested sponsor presenter with binded view\\n        testedSp.onBindView(context, view);\\n        //WHEN event come\\n        OnSponsorClickEvent event = new OnSponsorClickEvent(null);\\n        testedSp.onEvent(event);\\n        //THEN\\n        verify(view).showSponsorDialog(event);\\n    }\\n\\n    @Test\\n    public void testOnUpdateSponsorList() throws Exception {\\n        //GIVEN a tested sponsor presenter with binded view\\n        testedSp.onBindView(context, view);\\n        //WHEN sponsors list is updated\\n        SponsorUpdatedEvent event = new SponsorUpdatedEvent();\\n        testedSp.onEvent(event);\\n        //THEN\\n        verify(view).updateSponsors(any(SponsorsListViewModel.class));\\n    }\\n}'\n",
      "5 Java\n",
      "\n"
     ]
    }
   ],
   "source": [
    "for txt, lbl in train_ds.take(1):\n",
    "    for i in range(2):\n",
    "        print(txt.numpy()[i])\n",
    "        print(lbl.numpy()[i], class_mappings[lbl.numpy()[i]])\n",
    "        print()"
   ]
  },
  {
   "cell_type": "code",
   "execution_count": 7,
   "metadata": {},
   "outputs": [],
   "source": [
    "VOCAB_SIZE = 20_000\n",
    "vectorize_layer = TextVectorization(max_tokens=VOCAB_SIZE, output_mode='binary', ngrams=1)"
   ]
  },
  {
   "cell_type": "code",
   "execution_count": 8,
   "metadata": {},
   "outputs": [],
   "source": [
    "train_text = train_ds.map(lambda text, labels: text)\n",
    "\n",
    "# vectorize_layer.adapt(train_text)\n",
    "with tf.device(\"CPU\"):\n",
    "    vectorize_layer.adapt(train_text)"
   ]
  },
  {
   "cell_type": "code",
   "execution_count": 9,
   "metadata": {},
   "outputs": [],
   "source": [
    "def vectorize_text(text, label):\n",
    "    text = tf.expand_dims(text, -1)\n",
    "    return vectorize_layer(text), label"
   ]
  },
  {
   "cell_type": "code",
   "execution_count": 10,
   "metadata": {},
   "outputs": [
    {
     "data": {
      "text/plain": [
       "20000"
      ]
     },
     "execution_count": 10,
     "metadata": {},
     "output_type": "execute_result"
    }
   ],
   "source": [
    "len(vectorize_layer.get_vocabulary())"
   ]
  },
  {
   "cell_type": "code",
   "execution_count": 11,
   "metadata": {},
   "outputs": [],
   "source": [
    "multi_train_ds = train_ds.map(vectorize_text)\n",
    "multi_val_ds = val_ds.map(vectorize_text)\n",
    "multi_test_ds = test_ds.map(vectorize_text)\n"
   ]
  },
  {
   "cell_type": "code",
   "execution_count": 12,
   "metadata": {},
   "outputs": [],
   "source": [
    "AUTOTUNE = tf.data.AUTOTUNE\n",
    "\n",
    "def configure_dataset(dataset):\n",
    "    return dataset.cache().prefetch(buffer_size=AUTOTUNE)"
   ]
  },
  {
   "cell_type": "code",
   "execution_count": 13,
   "metadata": {},
   "outputs": [],
   "source": [
    "multi_train_ds = configure_dataset(multi_train_ds)\n",
    "multi_val_ds = configure_dataset(multi_val_ds)\n",
    "multi_test_ds = configure_dataset(multi_test_ds)"
   ]
  },
  {
   "cell_type": "code",
   "execution_count": 14,
   "metadata": {},
   "outputs": [
    {
     "name": "stdout",
     "output_type": "stream",
     "text": [
      "[1. 1. 1. ... 0. 0. 0.]\n",
      "13 Visual Basic\n",
      "\n",
      "[1. 1. 0. ... 0. 0. 0.]\n",
      "1 C\n",
      "\n"
     ]
    },
    {
     "name": "stderr",
     "output_type": "stream",
     "text": [
      "2022-04-21 00:03:32.096594: W tensorflow/core/kernels/data/cache_dataset_ops.cc:768] The calling iterator did not fully read the dataset being cached. In order to avoid unexpected truncation of the dataset, the partially cached contents of the dataset  will be discarded. This can happen if you have an input pipeline similar to `dataset.cache().take(k).repeat()`. You should use `dataset.take(k).cache().repeat()` instead.\n"
     ]
    }
   ],
   "source": [
    "for txt, lbl in multi_train_ds.take(1):\n",
    "    for i in range(2):\n",
    "        print(txt.numpy()[i])\n",
    "        print(lbl.numpy()[i], class_mappings[lbl.numpy()[i]])\n",
    "        print()"
   ]
  },
  {
   "cell_type": "code",
   "execution_count": 15,
   "metadata": {},
   "outputs": [
    {
     "name": "stdout",
     "output_type": "stream",
     "text": [
      "b'version https://git-lfs.github.com/spec/v1\\noid sha256:b519d8c53881da3ce32f92a5c9f583c67d563ea9d7c5cacd3bf2503726443654\\nsize 3420\\n'\n",
      "6 JavaScript\n",
      "\n",
      "b'# Author: Jeremy Werner\\n\\n# Start in the same directory as kNN.jl\\ninclude(\"kNN.jl\")\\n\\nusing RDatasets\\n\\niris = dataset(\"datasets\", \"iris\")\\n\\n\\n# PetalLength and PetalWidth will be used for 2D example\\nx_all = hcat(iris[:PetalLength], iris[:PetalWidth])\\n\\nsubset_n = 120\\nx_train = x_all[1:subset_n, 1:2]\\nx_test = x_all[(subset_n + 1):150, 1:2]\\ny_in = array(iris[:Species][1:subset_n])\\n\\nreal_y = array(iris[:Species][(subset_n+1):(size(iris)[1])])\\nn1 = length(real_y)\\n\\n# Fitting for k=2,6\\ntest_predictions_2 = kNN(x_train, y_in, 2, x_test)\\ntest_predictions_6 = kNN(x_train, y_in, 6, x_test)\\n\\n# Classification rates\\nclass_2 = sum(real_y .== test_predictions_2) / n1\\nclass_6 = sum(real_y .== test_predictions_6) / n1\\n\\n\\n# Higher dimensional test\\n\\nx_all = hcat(iris[:PetalLength], iris[:PetalWidth], iris[:SepalLength], iris[:SepalWidth])\\n\\nsubset_n = 120\\nx_train = x_all[1:subset_n, 1:4]\\nx_test = x_all[(subset_n + 1):150, 1:4]\\ny_in = array(iris[:Species][1:subset_n])\\n\\ntest_predictions_3 = kNN(x_train, y_in, 3, x_test)\\nclass_3_big = sum(real_y .== test_predictions_3) / n1\\n\\n'\n",
      "7 Julia\n",
      "\n"
     ]
    }
   ],
   "source": [
    "for txt, lbl in train_ds.take(1):\n",
    "    for i in range(2):\n",
    "        print(txt.numpy()[i])\n",
    "        print(lbl.numpy()[i], class_mappings[lbl.numpy()[i]])\n",
    "        print()"
   ]
  },
  {
   "cell_type": "markdown",
   "metadata": {},
   "source": [
    "## Create Model"
   ]
  },
  {
   "cell_type": "code",
   "execution_count": 16,
   "metadata": {},
   "outputs": [],
   "source": [
    "model = tf.keras.Sequential([\n",
    "    layers.Dense(len(train_ds.class_names), activation='softmax')\n",
    "])"
   ]
  },
  {
   "cell_type": "code",
   "execution_count": 17,
   "metadata": {},
   "outputs": [],
   "source": [
    "model.compile(\n",
    "    loss=losses.SparseCategoricalCrossentropy(),\n",
    "    optimizer='adam',\n",
    "    metrics=['accuracy']\n",
    ")"
   ]
  },
  {
   "cell_type": "code",
   "execution_count": 18,
   "metadata": {},
   "outputs": [
    {
     "name": "stdout",
     "output_type": "stream",
     "text": [
      "Epoch 1/4\n",
      "   1/3500 [..............................] - ETA: 45:09 - loss: 2.6465 - accuracy: 0.0625"
     ]
    },
    {
     "name": "stderr",
     "output_type": "stream",
     "text": [
      "2022-04-21 00:03:33.149385: I tensorflow/stream_executor/cuda/cuda_blas.cc:1786] TensorFloat-32 will be used for the matrix multiplication. This will only be logged once.\n"
     ]
    },
    {
     "name": "stdout",
     "output_type": "stream",
     "text": [
      "3500/3500 [==============================] - 29s 8ms/step - loss: 0.4208 - accuracy: 0.9376 - val_loss: 0.1900 - val_accuracy: 0.9598\n",
      "Epoch 2/4\n",
      "3500/3500 [==============================] - 4s 1ms/step - loss: 0.1328 - accuracy: 0.9674 - val_loss: 0.1433 - val_accuracy: 0.9624\n",
      "Epoch 3/4\n",
      "3500/3500 [==============================] - 4s 1ms/step - loss: 0.0926 - accuracy: 0.9752 - val_loss: 0.1296 - val_accuracy: 0.9641\n",
      "Epoch 4/4\n",
      "3500/3500 [==============================] - 4s 1ms/step - loss: 0.0730 - accuracy: 0.9797 - val_loss: 0.1284 - val_accuracy: 0.9644\n"
     ]
    }
   ],
   "source": [
    "history = model.fit(multi_train_ds, validation_data=multi_val_ds, epochs=4)"
   ]
  },
  {
   "cell_type": "code",
   "execution_count": 19,
   "metadata": {},
   "outputs": [
    {
     "data": {
      "image/png": "[encoded data removed]",
      "text/plain": [
       "<IPython.core.display.Image object>"
      ]
     },
     "execution_count": 19,
     "metadata": {},
     "output_type": "execute_result"
    }
   ],
   "source": [
    "tf.keras.utils.plot_model(model)"
   ]
  },
  {
   "cell_type": "code",
   "execution_count": 20,
   "metadata": {},
   "outputs": [
    {
     "name": "stdout",
     "output_type": "stream",
     "text": [
      "438/438 [==============================] - 3s 7ms/step - loss: 0.1381 - accuracy: 0.9596\n"
     ]
    },
    {
     "data": {
      "text/plain": [
       "[0.1380937546491623, 0.9595714211463928]"
      ]
     },
     "execution_count": 20,
     "metadata": {},
     "output_type": "execute_result"
    }
   ],
   "source": [
    "model.evaluate(multi_test_ds)"
   ]
  },
  {
   "cell_type": "code",
   "execution_count": 21,
   "metadata": {},
   "outputs": [
    {
     "data": {
      "image/png": "[encoded data removed]",
      "text/plain": [
       "<Figure size 432x288 with 1 Axes>"
      ]
     },
     "metadata": {},
     "output_type": "display_data"
    }
   ],
   "source": [
    "plt.style.use('ggplot')\n",
    "plt.plot(history.history['accuracy'], label='train')\n",
    "plt.plot(history.history['val_accuracy'], label='test')\n",
    "plt.legend()\n",
    "plt.show()"
   ]
  },
  {
   "cell_type": "code",
   "execution_count": 22,
   "metadata": {},
   "outputs": [
    {
     "data": {
      "image/png": "[encoded data removed]",
      "text/plain": [
       "<Figure size 432x288 with 1 Axes>"
      ]
     },
     "metadata": {},
     "output_type": "display_data"
    }
   ],
   "source": [
    "plt.plot(history.history['loss'], label='train')\n",
    "plt.plot(history.history['val_loss'], label='test')\n",
    "plt.legend()\n",
    "plt.show()"
   ]
  },
  {
   "cell_type": "code",
   "execution_count": 23,
   "metadata": {},
   "outputs": [],
   "source": [
    "exported_model = tf.keras.Sequential([\n",
    "    vectorize_layer,\n",
    "    model,\n",
    "])"
   ]
  },
  {
   "cell_type": "code",
   "execution_count": 24,
   "metadata": {},
   "outputs": [],
   "source": [
    "exported_model.compile(loss=losses.SparseCategoricalCrossentropy(),\n",
    "    optimizer='adam',\n",
    "    metrics=['accuracy'],\n",
    ")"
   ]
  },
  {
   "cell_type": "code",
   "execution_count": 25,
   "metadata": {},
   "outputs": [
    {
     "name": "stdout",
     "output_type": "stream",
     "text": [
      "438/438 [==============================] - 4s 8ms/step - loss: 0.1381 - accuracy: 0.9596\n"
     ]
    },
    {
     "data": {
      "text/plain": [
       "[0.1380937546491623, 0.9595714211463928]"
      ]
     },
     "execution_count": 25,
     "metadata": {},
     "output_type": "execute_result"
    }
   ],
   "source": [
    "exported_model.evaluate(test_ds)\n"
   ]
  },
  {
   "cell_type": "code",
   "execution_count": 26,
   "metadata": {},
   "outputs": [
    {
     "data": {
      "text/plain": [
       "3"
      ]
     },
     "execution_count": 26,
     "metadata": {},
     "output_type": "execute_result"
    }
   ],
   "source": [
    "exported_model.predict(['#include <string>']).argmax()"
   ]
  },
  {
   "cell_type": "code",
   "execution_count": 27,
   "metadata": {},
   "outputs": [
    {
     "data": {
      "text/plain": [
       "9"
      ]
     },
     "execution_count": 27,
     "metadata": {},
     "output_type": "execute_result"
    }
   ],
   "source": [
    "exported_model.predict(['import os; os.system(\"ls -l\")']).argmax()"
   ]
  },
  {
   "cell_type": "code",
   "execution_count": 28,
   "metadata": {},
   "outputs": [
    {
     "data": {
      "text/plain": [
       "'C++'"
      ]
     },
     "execution_count": 28,
     "metadata": {},
     "output_type": "execute_result"
    }
   ],
   "source": [
    "class_mappings[exported_model.predict(\n",
    "    [\n",
    "        \"\"\"\n",
    "#include <iostream>\n",
    "#include <string>\n",
    "#include <vector>\n",
    "\n",
    "\n",
    "int main()\n",
    "{\n",
    "    std::string s = \"  prepress  \";\n",
    "    int n = 3;\n",
    "    std::vector<std::string> v;\n",
    "\n",
    "    // create n-grams using the string s of size n, and store them in v\n",
    "    for (int i = 0; i < s.size() - n + 1; i++)\n",
    "    {\n",
    "        v.push_back(s.substr(i, n));\n",
    "    }\n",
    "\n",
    "    // print the n-grams vector\n",
    "    for (int i = 0; i < v.size(); i++)\n",
    "    {\n",
    "        std::cout << v[i] << std::endl;\n",
    "    }\n",
    "\n",
    "    return 0;\n",
    "}\n",
    "        \"\"\"\n",
    "    ]\n",
    ").argmax()]\n"
   ]
  },
  {
   "cell_type": "code",
   "execution_count": 29,
   "metadata": {},
   "outputs": [],
   "source": [
    "# inputs = tf.keras.Input(shape=(1,), dtype=\"string\")\n",
    "# processed_inputs = vectorize_layer(inputs)\n",
    "# outputs = model(processed_inputs)\n",
    "# inference_model = tf.keras.Model(inputs, outputs)\n",
    "\n",
    "# raw_text_data = tf.convert_to_tensor([\n",
    "# ['import os; os.system(\"ls -l\")'],\n",
    "# ])\n",
    "\n",
    "# inference_model(raw_text_data)"
   ]
  },
  {
   "cell_type": "code",
   "execution_count": 30,
   "metadata": {},
   "outputs": [
    {
     "name": "stderr",
     "output_type": "stream",
     "text": [
      "2022-04-21 00:04:21.662676: W tensorflow/python/util/util.cc:368] Sets are not currently considered sequences, but this may change in the future, so consider avoiding using them.\n"
     ]
    },
    {
     "name": "stdout",
     "output_type": "stream",
     "text": [
      "INFO:tensorflow:Assets written to: models/code_classifier/assets\n"
     ]
    }
   ],
   "source": [
    "# save the model\n",
    "model_name = \"code_classifier\"\n",
    "exported_model.save(f'models/{model_name}', save_format='tf')"
   ]
  },
  {
   "cell_type": "code",
   "execution_count": 31,
   "metadata": {},
   "outputs": [],
   "source": [
    "loaded_model = tf.keras.models.load_model(f'models/{model_name}')"
   ]
  },
  {
   "cell_type": "code",
   "execution_count": 32,
   "metadata": {},
   "outputs": [
    {
     "name": "stdout",
     "output_type": "stream",
     "text": [
      "Model: \"sequential_1\"\n",
      "_________________________________________________________________\n",
      " Layer (type)                Output Shape              Param #   \n",
      "=================================================================\n",
      " text_vectorization (TextVec  (None, 20000)            0         \n",
      " torization)                                                     \n",
      "                                                                 \n",
      " sequential (Sequential)     (None, 14)                280014    \n",
      "                                                                 \n",
      "=================================================================\n",
      "Total params: 280,014\n",
      "Trainable params: 280,014\n",
      "Non-trainable params: 0\n",
      "_________________________________________________________________\n"
     ]
    }
   ],
   "source": [
    "loaded_model.summary()"
   ]
  },
  {
   "cell_type": "code",
   "execution_count": 33,
   "metadata": {},
   "outputs": [
    {
     "data": {
      "text/plain": [
       "3"
      ]
     },
     "execution_count": 33,
     "metadata": {},
     "output_type": "execute_result"
    }
   ],
   "source": [
    "loaded_model.predict(['#include <string>']).argmax()"
   ]
  },
  {
   "cell_type": "code",
   "execution_count": 34,
   "metadata": {},
   "outputs": [
    {
     "data": {
      "text/plain": [
       "'C++'"
      ]
     },
     "execution_count": 34,
     "metadata": {},
     "output_type": "execute_result"
    }
   ],
   "source": [
    "class_mappings[loaded_model.predict(['#include <string>']).argmax()]"
   ]
  },
  {
   "cell_type": "code",
   "execution_count": null,
   "metadata": {},
   "outputs": [],
   "source": []
  }
 ],
 "metadata": {
  "interpreter": {
   "hash": "6f099daedb87da592d89cad2c3121b6ec9d8b595524e3989b3c04eae8080ddeb"
  },
  "kernelspec": {
   "display_name": "Python 3.9.12 ('fastapi-kube')",
   "language": "python",
   "name": "python3"
  },
  "language_info": {
   "codemirror_mode": {
    "name": "ipython",
    "version": 3
   },
   "file_extension": ".py",
   "mimetype": "text/x-python",
   "name": "python",
   "nbconvert_exporter": "python",
   "pygments_lexer": "ipython3",
   "version": "3.9.12"
  },
  "orig_nbformat": 4
 },
 "nbformat": 4,
 "nbformat_minor": 2
}
